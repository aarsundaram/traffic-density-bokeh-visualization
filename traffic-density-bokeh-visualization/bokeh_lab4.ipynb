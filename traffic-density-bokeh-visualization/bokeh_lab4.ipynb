{
 "cells": [
  {
   "cell_type": "code",
   "execution_count": 37,
   "metadata": {},
   "outputs": [],
   "source": [
    "import bokeh\n",
    "import pandas\n",
    "import time\n",
    "import matplotlib\n",
    "#df1 = pandas.DataFrame()\n",
    "df1=pandas.read_csv('n1_trucks.csv')"
   ]
  },
  {
   "cell_type": "code",
   "execution_count": 38,
   "metadata": {},
   "outputs": [
    {
     "name": "stdout",
     "output_type": "stream",
     "text": [
      "    Unnamed: 0     id  hour         source  number\n",
      "0            0  39745   0.0   TruckSource1       1\n",
      "1            1  39746   0.0   TruckSource2       1\n",
      "2            2  39747   0.0   TruckSource3       1\n",
      "3            3  39748   0.0   TruckSource4       1\n",
      "4            4  39749   0.0   TruckSource5       1\n",
      "..         ...    ...   ...            ...     ...\n",
      "64          64  39809   0.0  TruckSource65       1\n",
      "65          65  39810   0.0  TruckSource66       1\n",
      "66          66  39811   0.0  TruckSource67       1\n",
      "67          67  39812   0.0  TruckSource68       1\n",
      "68          68  39813   0.0  TruckSource69       1\n",
      "\n",
      "[69 rows x 5 columns]\n"
     ]
    }
   ],
   "source": [
    "df1\n",
    "hourwise=[]\n",
    "for i in df1['hour'].unique():\n",
    "    hourwise.append(df1.loc[df1['hour']==i])\n",
    "    \n",
    "print(hourwise[0])\n"
   ]
  },
  {
   "cell_type": "code",
   "execution_count": 51,
   "metadata": {},
   "outputs": [
    {
     "ename": "KeyboardInterrupt",
     "evalue": "",
     "output_type": "error",
     "traceback": [
      "\u001b[1;31m---------------------------------------------------------------------------\u001b[0m",
      "\u001b[1;31mKeyboardInterrupt\u001b[0m                         Traceback (most recent call last)",
      "\u001b[1;32m<ipython-input-51-bd4620a5061b>\u001b[0m in \u001b[0;36m<module>\u001b[1;34m\u001b[0m\n\u001b[0;32m     25\u001b[0m     \u001b[0mshow\u001b[0m\u001b[1;33m(\u001b[0m\u001b[0mp\u001b[0m\u001b[1;33m)\u001b[0m\u001b[1;33m\u001b[0m\u001b[1;33m\u001b[0m\u001b[0m\n\u001b[0;32m     26\u001b[0m     \u001b[0mi\u001b[0m\u001b[1;33m+=\u001b[0m\u001b[1;36m1\u001b[0m\u001b[1;33m\u001b[0m\u001b[1;33m\u001b[0m\u001b[0m\n\u001b[1;32m---> 27\u001b[1;33m     \u001b[0mtime\u001b[0m\u001b[1;33m.\u001b[0m\u001b[0msleep\u001b[0m\u001b[1;33m(\u001b[0m\u001b[1;36m2\u001b[0m\u001b[1;33m)\u001b[0m\u001b[1;33m\u001b[0m\u001b[1;33m\u001b[0m\u001b[0m\n\u001b[0m\u001b[0;32m     28\u001b[0m \u001b[1;33m\u001b[0m\u001b[0m\n",
      "\u001b[1;31mKeyboardInterrupt\u001b[0m: "
     ]
    }
   ],
   "source": [
    "from bokeh.plotting import figure, output_file, save, show\n",
    "import time\n",
    "i=0\n",
    "add_periodic_callback(callback, period_milliseconds)\n",
    "while True:\n",
    "    source1=hourwise[i]['source']\n",
    "    numbers1=hourwise[i]['number']\n",
    "\n",
    "    p=figure(\n",
    "        y_range=source1,\n",
    "        title='simple example',\n",
    "        plot_width=800,\n",
    "        plot_height=800,\n",
    "        x_axis_label='segmentname'\n",
    "        )\n",
    "\n",
    "    p.hbar(\n",
    "        y=source1,\n",
    "        right=0,\n",
    "        left=numbers1,\n",
    "        height=0.4,\n",
    "        color='red',\n",
    "        fill_alpha=0.5\n",
    "    )\n",
    "\n",
    "    show(p)\n",
    "    i+=1\n",
    "    time.sleep(2)\n",
    "    \n"
   ]
  },
  {
   "cell_type": "code",
   "execution_count": 52,
   "metadata": {},
   "outputs": [],
   "source": [
    "import bokeh\n",
    "import pandas\n",
    "from bokeh.io import curdoc\n",
    "from bokeh.plotting import figure, output_file, save, show\n",
    "from bokeh.layouts import column, row\n",
    "from bokeh.models import ColumnDataSource, Slider, TextInput\n",
    "from bokeh.plotting import figure\n",
    "\n",
    "\n",
    "df1=pandas.read_csv('n1_trucks.csv')\n",
    "time.sleep(20)\n",
    "\n",
    "hourwise=[]\n",
    "for i in df1['hour'].unique():\n",
    "    hourwise.append(df1.loc[df1['hour']==i])\n",
    "\n",
    "\n",
    "# Set up data\n",
    "#N = 200\n",
    "x = hourwise[0]['source']\n",
    "y =  hourwise[0]['source']\n",
    "\n",
    "source = ColumnDataSource(data=dict(x=x, y=y))\n",
    "\n",
    "\n",
    "# Set up plot\n",
    "plot = figure(plot_height=400, plot_width=800, title=\"my sine wave\",\n",
    "              tools=\"crosshair,pan,reset,save,wheel_zoom\")\n",
    "\n",
    "#plot.hbar(y=[1, 2, 3], height=0.5, left=0, right=[1,2,3], color=\"#CAB2D6\")\n",
    "plot.hbar(y='y',height=0.5 ,left=0,right='x', source=source, color=\"#CAB2D6\")\n",
    "\n",
    "\n",
    "# Set up widgets\n",
    "text = TextInput(title=\"title\", value='my sine wave')\n",
    "\n",
    "hour1 = Slider(title=\"hour\", value=0.0, start=0, end=96, step=1)\n",
    "\n",
    "# Set up callbacks\n",
    "def update_title(attrname, old, new):\n",
    "    plot.title.text = text.value\n",
    "\n",
    "text.on_change('value', update_title)\n",
    "\n",
    "def update_data(attrname, old, new):\n",
    "\n",
    "    # Get the current slider values\n",
    "    #a = amplitude.value\n",
    "    h= hour1.value\n",
    "    \n",
    "    # Generate the new plot\n",
    "    x = hourwise[h]['source']\n",
    "    y =  hourwise[h]['number']\n",
    "\n",
    "    #x = np.linspace(0, 4*np.pi, N)\n",
    "    #y = a*np.sin(k*x + w) + b\n",
    "\n",
    "    source.data = dict(x=x, y=y)\n",
    "\n",
    "hour1.on_change('value', update_data)\n",
    "\n",
    "\n",
    "# Set up layouts and add to document\n",
    "inputs = column(hour1)\n",
    "\n",
    "curdoc().add_root(row(inputs, plot, width=800))\n",
    "curdoc().title = \"Sliders\""
   ]
  },
  {
   "cell_type": "code",
   "execution_count": null,
   "metadata": {},
   "outputs": [],
   "source": []
  }
 ],
 "metadata": {
  "kernelspec": {
   "display_name": "Python 3",
   "language": "python",
   "name": "python3"
  },
  "language_info": {
   "codemirror_mode": {
    "name": "ipython",
    "version": 3
   },
   "file_extension": ".py",
   "mimetype": "text/x-python",
   "name": "python",
   "nbconvert_exporter": "python",
   "pygments_lexer": "ipython3",
   "version": "3.7.4"
  }
 },
 "nbformat": 4,
 "nbformat_minor": 2
}
