{
 "cells": [
  {
   "cell_type": "code",
   "execution_count": 3,
   "metadata": {},
   "outputs": [
    {
     "name": "stdout",
     "output_type": "stream",
     "text": [
      "Collecting mysql-connector-python\n",
      "\u001b[?25l  Downloading https://files.pythonhosted.org/packages/5c/1e/3f372b31853b868153e453146d99ca787da3eb4bf0b654590b829b262afa/mysql_connector_python-8.0.19-py2.py3-none-any.whl (355kB)\n",
      "\u001b[K     |████████████████████████████████| 358kB 324kB/s eta 0:00:01     |███████████████▊                | 174kB 324kB/s eta 0:00:01\n",
      "\u001b[?25hCollecting dnspython==1.16.0 (from mysql-connector-python)\n",
      "\u001b[?25l  Downloading https://files.pythonhosted.org/packages/ec/d3/3aa0e7213ef72b8585747aa0e271a9523e713813b9a20177ebe1e939deb0/dnspython-1.16.0-py2.py3-none-any.whl (188kB)\n",
      "\u001b[K     |████████████████████████████████| 194kB 498kB/s eta 0:00:01\n",
      "\u001b[?25hCollecting protobuf==3.6.1 (from mysql-connector-python)\n",
      "\u001b[?25l  Downloading https://files.pythonhosted.org/packages/18/e7/785830a65d1f1faba7dccfa8314f7afded1db8cc2860218226ba4b3f6150/protobuf-3.6.1-cp37-cp37m-macosx_10_6_intel.macosx_10_9_intel.macosx_10_9_x86_64.macosx_10_10_intel.macosx_10_10_x86_64.whl (1.2MB)\n",
      "\u001b[K     |████████████████████████████████| 1.2MB 556kB/s eta 0:00:01\n",
      "\u001b[?25hRequirement already satisfied: setuptools in /Users/rtseinstein/anaconda2/envs/jupyterlab-1.0.2/lib/python3.7/site-packages (from protobuf==3.6.1->mysql-connector-python) (41.4.0)\n",
      "Requirement already satisfied: six>=1.9 in /Users/rtseinstein/anaconda2/envs/jupyterlab-1.0.2/lib/python3.7/site-packages (from protobuf==3.6.1->mysql-connector-python) (1.12.0)\n",
      "Installing collected packages: dnspython, protobuf, mysql-connector-python\n",
      "Successfully installed dnspython-1.16.0 mysql-connector-python-8.0.19 protobuf-3.6.1\n"
     ]
    }
   ],
   "source": [
    "#installing mysql \n",
    "\n",
    "import sys\n",
    "!{sys.executable} -m pip install mysql-connector-python\n"
   ]
  },
  {
   "cell_type": "code",
   "execution_count": 5,
   "metadata": {},
   "outputs": [
    {
     "name": "stdout",
     "output_type": "stream",
     "text": [
      "<mysql.connector.connection.MySQLConnection object at 0x10ae79850>\n"
     ]
    }
   ],
   "source": [
    "# Connecting to the database\n",
    "\n",
    "## importing 'mysql.connector' as mysql for convenient\n",
    "import mysql.connector as mysql\n",
    "\n",
    "## connecting to the database using 'connect()' method\n",
    "## it takes 3 required parameters 'host', 'user', 'passwd'\n",
    "db = mysql.connect(\n",
    "    host = \"localhost\",\n",
    "    user = \"root\",\n",
    "    passwd = \"einstein\"\n",
    ")\n",
    "\n",
    "print(db) # it will print a connection object if everything is fine"
   ]
  },
  {
   "cell_type": "code",
   "execution_count": 6,
   "metadata": {},
   "outputs": [],
   "source": [
    "# creating database \n",
    "\n",
    "## creating an instance of 'cursor' class which is used to execute the 'SQL' statements in 'Python'\n",
    "cursor = db.cursor()\n",
    "\n",
    "## creating a databse called 'datacamp'\n",
    "## 'execute()' method is used to compile a 'SQL' statement\n",
    "## below statement is used to create tha 'datacamp' database\n",
    "cursor.execute(\"CREATE DATABASE datacamp\")"
   ]
  },
  {
   "cell_type": "code",
   "execution_count": 8,
   "metadata": {},
   "outputs": [
    {
     "name": "stdout",
     "output_type": "stream",
     "text": [
      "('datacamp',)\n",
      "('information_schema',)\n",
      "('mysql',)\n",
      "('performance_schema',)\n",
      "('sys',)\n"
     ]
    }
   ],
   "source": [
    "cursor.execute(\"SHOW DATABASES\")\n",
    "\n",
    "## 'fetchall()' method fetches all the rows from the last executed statement\n",
    "databases = cursor.fetchall() ## it returns a list of all databases present\n",
    "\n",
    "## printing the list of databases\n",
    "#print(databases)\n",
    "\n",
    "for database in databases:\n",
    "    print(database)"
   ]
  },
  {
   "cell_type": "code",
   "execution_count": 10,
   "metadata": {},
   "outputs": [],
   "source": [
    "#re-opening database\n",
    "\n",
    "import mysql.connector as mysql\n",
    "\n",
    "db = mysql.connect(\n",
    "    host = \"localhost\",\n",
    "    user = \"root\",\n",
    "    passwd = \"einstein\",\n",
    "    database = \"datacamp\"\n",
    ")\n"
   ]
  },
  {
   "cell_type": "code",
   "execution_count": null,
   "metadata": {},
   "outputs": [],
   "source": [
    "#with no errors, it implies database has been created. \n",
    "#now creating a table in the database. \n",
    "\n",
    "cursor = db.cursor()\n",
    "\n",
    "## creating a table called 'users' in the 'datacamp' database\n",
    "cursor.execute(\"CREATE TABLE users (name VARCHAR(255), user_name VARCHAR(255))\")"
   ]
  }
 ],
 "metadata": {
  "kernelspec": {
   "display_name": "Python 3",
   "language": "python",
   "name": "python3"
  },
  "language_info": {
   "codemirror_mode": {
    "name": "ipython",
    "version": 3
   },
   "file_extension": ".py",
   "mimetype": "text/x-python",
   "name": "python",
   "nbconvert_exporter": "python",
   "pygments_lexer": "ipython3",
   "version": "3.7.4"
  }
 },
 "nbformat": 4,
 "nbformat_minor": 2
}
