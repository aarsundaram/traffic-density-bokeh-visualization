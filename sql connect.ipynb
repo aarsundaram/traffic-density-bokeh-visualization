{
 "cells": [
  {
   "cell_type": "markdown",
   "metadata": {},
   "source": [
    "# SQL & Python \n",
    "\n",
    "<tutorial from datacamp accessible at: https://www.datacamp.com/community/tutorials/mysql-python#CAC >"
   ]
  },
  {
   "cell_type": "code",
   "execution_count": null,
   "metadata": {
    "scrolled": true
   },
   "outputs": [],
   "source": [
    "#installing mysql \n",
    "\n",
    "import sys\n",
    "!{sys.executable} -m pip install mysql-connector-python\n"
   ]
  },
  {
   "cell_type": "code",
   "execution_count": 5,
   "metadata": {},
   "outputs": [
    {
     "name": "stdout",
     "output_type": "stream",
     "text": [
      "<mysql.connector.connection.MySQLConnection object at 0x10ae79850>\n"
     ]
    }
   ],
   "source": [
    "# Connecting to the database\n",
    "\n",
    "## importing 'mysql.connector' as mysql for convenient\n",
    "import mysql.connector as mysql\n",
    "\n",
    "## connecting to the database using 'connect()' method\n",
    "## it takes 3 required parameters 'host', 'user', 'passwd'\n",
    "db = mysql.connect(\n",
    "    host = \"localhost\",\n",
    "    user = \"root\",\n",
    "    passwd = \"einstein\"\n",
    ")\n",
    "\n",
    "print(db) # it will print a connection object if everything is fine"
   ]
  },
  {
   "cell_type": "code",
   "execution_count": 6,
   "metadata": {},
   "outputs": [],
   "source": [
    "# creating database \n",
    "\n",
    "## creating an instance of 'cursor' class which is used to execute the 'SQL' statements in 'Python'\n",
    "cursor = db.cursor()\n",
    "\n",
    "## creating a databse called 'datacamp'\n",
    "## 'execute()' method is used to compile a 'SQL' statement\n",
    "## below statement is used to create tha 'datacamp' database\n",
    "cursor.execute(\"CREATE DATABASE datacamp\")"
   ]
  },
  {
   "cell_type": "code",
   "execution_count": 8,
   "metadata": {},
   "outputs": [
    {
     "name": "stdout",
     "output_type": "stream",
     "text": [
      "('datacamp',)\n",
      "('information_schema',)\n",
      "('mysql',)\n",
      "('performance_schema',)\n",
      "('sys',)\n"
     ]
    }
   ],
   "source": [
    "cursor.execute(\"SHOW DATABASES\")\n",
    "\n",
    "## 'fetchall()' method fetches all the rows from the last executed statement\n",
    "databases = cursor.fetchall() ## it returns a list of all databases present\n",
    "\n",
    "## printing the list of databases\n",
    "#print(databases)\n",
    "\n",
    "for database in databases:\n",
    "    print(database)"
   ]
  },
  {
   "cell_type": "code",
   "execution_count": 10,
   "metadata": {},
   "outputs": [],
   "source": [
    "#re-opening database\n",
    "\n",
    "import mysql.connector as mysql\n",
    "\n",
    "db = mysql.connect(\n",
    "    host = \"localhost\",\n",
    "    user = \"root\",\n",
    "    passwd = \"einstein\",\n",
    "    database = \"datacamp\"\n",
    ")\n"
   ]
  },
  {
   "cell_type": "code",
   "execution_count": 11,
   "metadata": {},
   "outputs": [
    {
     "name": "stdout",
     "output_type": "stream",
     "text": [
      "('users',)\n"
     ]
    }
   ],
   "source": [
    "#with no errors, it implies database has been created. \n",
    "#now creating a table in the database. \n",
    "\n",
    "cursor = db.cursor()\n",
    "\n",
    "## creating a table called 'users' in the 'datacamp' database\n",
    "cursor.execute(\"CREATE TABLE users (name VARCHAR(255), user_name VARCHAR(255))\")\n",
    "\n",
    "## getting all the tables which are present in 'datacamp' database\n",
    "cursor.execute(\"SHOW TABLES\")\n",
    "\n",
    "tables = cursor.fetchall() ## it returns list of tables present in the database\n",
    "\n",
    "## showing all the tables one by one\n",
    "for table in tables:\n",
    "    print(table)\n",
    "    \n"
   ]
  },
  {
   "cell_type": "code",
   "execution_count": 12,
   "metadata": {},
   "outputs": [],
   "source": [
    "## first we have to 'drop' the table which has already created to create it again with the 'PRIMARY KEY'\n",
    "## 'DROP TABLE table_name' statement will drop the table from a database\n",
    "cursor.execute(\"DROP TABLE users\")\n",
    "\n",
    "## creating the 'users' table again with the 'PRIMARY KEY'\n",
    "cursor.execute(\"CREATE TABLE users (id INT(11) NOT NULL AUTO_INCREMENT PRIMARY KEY, name VARCHAR(255), user_name VARCHAR(255))\")"
   ]
  },
  {
   "cell_type": "code",
   "execution_count": 13,
   "metadata": {},
   "outputs": [
    {
     "name": "stdout",
     "output_type": "stream",
     "text": [
      "[('id', 'int', 'NO', 'PRI', None, 'auto_increment'), ('name', 'varchar(255)', 'YES', '', None, ''), ('user_name', 'varchar(255)', 'YES', '', None, '')]\n"
     ]
    }
   ],
   "source": [
    "## 'DESC table_name' is used to get all columns information\n",
    "cursor.execute(\"DESC users\")\n",
    "\n",
    "## it will print all the columns as 'tuples' in a list\n",
    "print(cursor.fetchall())"
   ]
  },
  {
   "cell_type": "code",
   "execution_count": 14,
   "metadata": {},
   "outputs": [
    {
     "name": "stdout",
     "output_type": "stream",
     "text": [
      "[('name', 'varchar(255)', 'YES', '', None, ''), ('user_name', 'varchar(255)', 'YES', '', None, '')]\n"
     ]
    }
   ],
   "source": [
    "## dropping the 'id' column\n",
    "cursor.execute(\"ALTER TABLE users DROP id\")\n",
    "\n",
    "cursor.execute(\"DESC users\")\n",
    "\n",
    "print(cursor.fetchall())\n"
   ]
  },
  {
   "cell_type": "code",
   "execution_count": 15,
   "metadata": {},
   "outputs": [
    {
     "name": "stdout",
     "output_type": "stream",
     "text": [
      "[('id', 'int', 'NO', 'PRI', None, 'auto_increment'), ('name', 'varchar(255)', 'YES', '', None, ''), ('user_name', 'varchar(255)', 'YES', '', None, '')]\n"
     ]
    }
   ],
   "source": [
    "## adding primary key to existing table \n",
    "\n",
    "\n",
    "## adding 'id' column to the 'users' table\n",
    "## 'FIRST' keyword in the statement will add a column in the starting of the table\n",
    "cursor.execute(\"ALTER TABLE users ADD COLUMN id INT(11) NOT NULL AUTO_INCREMENT PRIMARY KEY FIRST\")\n",
    "\n",
    "cursor.execute(\"DESC users\")\n",
    "\n",
    "print(cursor.fetchall())\n"
   ]
  },
  {
   "cell_type": "markdown",
   "metadata": {},
   "source": [
    "## Inserting Data\n",
    "\n",
    "### Inserting a single row into the table \n",
    "\n",
    "The code will insert one row into the users table."
   ]
  },
  {
   "cell_type": "code",
   "execution_count": 16,
   "metadata": {},
   "outputs": [
    {
     "name": "stdout",
     "output_type": "stream",
     "text": [
      "1 record inserted\n"
     ]
    }
   ],
   "source": [
    "## defining the Query\n",
    "query = \"INSERT INTO users (name, user_name) VALUES (%s, %s)\"\n",
    "## storing values in a variable\n",
    "values = (\"Hafeez\", \"hafeez\")\n",
    "\n",
    "## executing the query with values\n",
    "cursor.execute(query, values)\n",
    "\n",
    "## to make final output we have to run the 'commit()' method of the database object\n",
    "db.commit()\n",
    "\n",
    "print(cursor.rowcount, \"record inserted\")"
   ]
  },
  {
   "cell_type": "markdown",
   "metadata": {},
   "source": [
    "## Inserting multiple rows\n",
    "\n",
    "To insert multiple rows into the table, we use the executemany() method. It takes a list of tuples containing the data as a second parameter and a query as the first argument."
   ]
  },
  {
   "cell_type": "code",
   "execution_count": 17,
   "metadata": {},
   "outputs": [
    {
     "name": "stdout",
     "output_type": "stream",
     "text": [
      "4 records inserted\n"
     ]
    }
   ],
   "source": [
    "## defining the Query\n",
    "query = \"INSERT INTO users (name, user_name) VALUES (%s, %s)\"\n",
    "\n",
    "\n",
    "## storing values in a variable\n",
    "values = [\n",
    "    (\"Peter\", \"peter\"),\n",
    "    (\"Amy\", \"amy\"),\n",
    "    (\"Michael\", \"michael\"),\n",
    "    (\"Hennah\", \"hennah\")\n",
    "]\n",
    "\n",
    "## executing the query with values\n",
    "cursor.executemany(query, values)\n",
    "\n",
    "## to make final output we have to run the 'commit()' method of the database object\n",
    "db.commit()\n",
    "\n",
    "print(cursor.rowcount, \"records inserted\")"
   ]
  },
  {
   "cell_type": "markdown",
   "metadata": {},
   "source": [
    "## Retrieving Data\n",
    "\n",
    "To retrieve the data from a table we use, SELECT column_names FROM table_name statement.\n",
    "\n",
    "To get all records from a table, we use * in place of column names. Let's get all the data from the users table which we inserted before."
   ]
  },
  {
   "cell_type": "code",
   "execution_count": 20,
   "metadata": {},
   "outputs": [
    {
     "name": "stdout",
     "output_type": "stream",
     "text": [
      "(1, 'Hafeez', 'hafeez')\n",
      "(2, 'Peter', 'peter')\n",
      "(3, 'Amy', 'amy')\n",
      "(4, 'Michael', 'michael')\n",
      "(5, 'Hennah', 'hennah')\n"
     ]
    }
   ],
   "source": [
    "cursor = db.cursor()\n",
    "\n",
    "## defining the Query\n",
    "query = \"SELECT * FROM users\"\n",
    "\n",
    "## getting records from the table\n",
    "cursor.execute(query)\n",
    "\n",
    "## fetching all records from the 'cursor' object\n",
    "records = cursor.fetchall()\n",
    "\n",
    "## Showing the data\n",
    "for record in records:\n",
    "    print(record)"
   ]
  },
  {
   "cell_type": "markdown",
   "metadata": {},
   "source": [
    "## Selecting columns\n",
    "\n",
    "To select some columns from the table mention column name after the SELECT in the statement. Let's retrieve the username column from the users table."
   ]
  },
  {
   "cell_type": "code",
   "execution_count": 21,
   "metadata": {},
   "outputs": [
    {
     "name": "stdout",
     "output_type": "stream",
     "text": [
      "('hafeez',)\n",
      "('peter',)\n",
      "('amy',)\n",
      "('michael',)\n",
      "('hennah',)\n"
     ]
    }
   ],
   "source": [
    "cursor = db.cursor()\n",
    "\n",
    "## defining the Query\n",
    "query = \"SELECT user_name FROM users\"\n",
    "\n",
    "## getting 'user_name' column from the table\n",
    "cursor.execute(query)\n",
    "\n",
    "## fetching all usernames from the 'cursor' object\n",
    "usernames = cursor.fetchall()\n",
    "\n",
    "## Showing the data\n",
    "for username in usernames:\n",
    "    print(username)"
   ]
  },
  {
   "cell_type": "markdown",
   "metadata": {},
   "source": [
    "You can also retrieve more than one column at a time as follows."
   ]
  },
  {
   "cell_type": "code",
   "execution_count": 22,
   "metadata": {},
   "outputs": [
    {
     "name": "stdout",
     "output_type": "stream",
     "text": [
      "('Hafeez', 'hafeez')\n",
      "('Peter', 'peter')\n",
      "('Amy', 'amy')\n",
      "('Michael', 'michael')\n",
      "('Hennah', 'hennah')\n"
     ]
    }
   ],
   "source": [
    "cursor = db.cursor()\n",
    "\n",
    "## defining the Query\n",
    "query = \"SELECT name, user_name FROM users\"\n",
    "\n",
    "## getting 'name', 'user_name' columns from the table\n",
    "cursor.execute(query)\n",
    "\n",
    "## fetching all records from the 'cursor' object\n",
    "data = cursor.fetchall()\n",
    "\n",
    "## Showing the data\n",
    "for pair in data:\n",
    "    print(pair)"
   ]
  },
  {
   "cell_type": "markdown",
   "metadata": {},
   "source": [
    "## Select data on some condition\n",
    "\n",
    "WHERE is used to select data on some condition. Now, we will select a record with id 5.\n",
    "\n",
    "SELECT column_name FROM table_name WHERE condition statement will be used to retrieve the data on some condition.\n"
   ]
  },
  {
   "cell_type": "code",
   "execution_count": 23,
   "metadata": {},
   "outputs": [
    {
     "name": "stdout",
     "output_type": "stream",
     "text": [
      "(5, 'Hennah', 'hennah')\n"
     ]
    }
   ],
   "source": [
    "cursor = db.cursor()\n",
    "\n",
    "## defining the Query\n",
    "query = \"SELECT * FROM users WHERE id = 5\"\n",
    "\n",
    "## getting records from the table\n",
    "cursor.execute(query)\n",
    "\n",
    "## fetching all records from the 'cursor' object\n",
    "records = cursor.fetchall()\n",
    "\n",
    "## Showing the data\n",
    "for record in records:\n",
    "    print(record)"
   ]
  },
  {
   "cell_type": "markdown",
   "metadata": {},
   "source": [
    "## Order by Ascending or Descending"
   ]
  },
  {
   "cell_type": "code",
   "execution_count": null,
   "metadata": {},
   "outputs": [],
   "source": []
  }
 ],
 "metadata": {
  "kernelspec": {
   "display_name": "Python 3",
   "language": "python",
   "name": "python3"
  },
  "language_info": {
   "codemirror_mode": {
    "name": "ipython",
    "version": 3
   },
   "file_extension": ".py",
   "mimetype": "text/x-python",
   "name": "python",
   "nbconvert_exporter": "python",
   "pygments_lexer": "ipython3",
   "version": "3.7.4"
  }
 },
 "nbformat": 4,
 "nbformat_minor": 2
}
